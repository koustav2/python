{
 "cells": [
  {
   "cell_type": "markdown",
   "metadata": {},
   "source": [
    "# basics dsa"
   ]
  },
  {
   "cell_type": "code",
   "execution_count": 1,
   "metadata": {},
   "outputs": [
    {
     "name": "stdout",
     "output_type": "stream",
     "text": [
      "hello\n"
     ]
    }
   ],
   "source": [
    "print('hello')"
   ]
  },
  {
   "cell_type": "code",
   "execution_count": 2,
   "metadata": {},
   "outputs": [
    {
     "name": "stdout",
     "output_type": "stream",
     "text": [
      "My name is koustav Maity and i am 23 years old\n",
      "None\n"
     ]
    }
   ],
   "source": [
    "firstName='koustav'\n",
    "lastName='Maity'\n",
    "age=23\n",
    "details=print(f'My name is {firstName} {lastName} and i am {age} years old')\n",
    "print(details)"
   ]
  },
  {
   "cell_type": "code",
   "execution_count": 3,
   "metadata": {},
   "outputs": [
    {
     "name": "stdout",
     "output_type": "stream",
     "text": [
      "Your name is koustav\n"
     ]
    }
   ],
   "source": [
    "name=input('Enter your name: ')\n",
    "print(f'Your name is {name}')"
   ]
  },
  {
   "cell_type": "code",
   "execution_count": 4,
   "metadata": {},
   "outputs": [
    {
     "data": {
      "text/plain": [
       "['My',\n",
       " 'name',\n",
       " 'is',\n",
       " 'koustav',\n",
       " 'Maity',\n",
       " 'and',\n",
       " 'i',\n",
       " 'am',\n",
       " '23',\n",
       " 'years',\n",
       " 'old']"
      ]
     },
     "execution_count": 4,
     "metadata": {},
     "output_type": "execute_result"
    }
   ],
   "source": [
    "new ='My name is koustav Maity and i am 23 years old'\n",
    "new.split(' ')\n",
    "# new.split('a')"
   ]
  },
  {
   "cell_type": "code",
   "execution_count": 5,
   "metadata": {},
   "outputs": [
    {
     "data": {
      "text/plain": [
       "[1, 2, 3, 4, 5]"
      ]
     },
     "execution_count": 5,
     "metadata": {},
     "output_type": "execute_result"
    }
   ],
   "source": [
    "num=[1,2,3,4,5,6,7,8,9,10]\n",
    "num[0:5]\n"
   ]
  },
  {
   "cell_type": "code",
   "execution_count": 6,
   "metadata": {},
   "outputs": [
    {
     "data": {
      "text/plain": [
       "2"
      ]
     },
     "execution_count": 6,
     "metadata": {},
     "output_type": "execute_result"
    }
   ],
   "source": [
    "num[1]"
   ]
  },
  {
   "cell_type": "code",
   "execution_count": 7,
   "metadata": {},
   "outputs": [
    {
     "data": {
      "text/plain": [
       "1"
      ]
     },
     "execution_count": 7,
     "metadata": {},
     "output_type": "execute_result"
    }
   ],
   "source": [
    "new3='koustav'\n",
    "new3.find(\"o\")\n"
   ]
  },
  {
   "cell_type": "code",
   "execution_count": 8,
   "metadata": {},
   "outputs": [
    {
     "data": {
      "text/plain": [
       "-1"
      ]
     },
     "execution_count": 8,
     "metadata": {},
     "output_type": "execute_result"
    }
   ],
   "source": [
    "new3.find('o',2)"
   ]
  },
  {
   "cell_type": "markdown",
   "metadata": {},
   "source": [
    "# find the column value in 3 arrays"
   ]
  },
  {
   "cell_type": "code",
   "execution_count": 5,
   "metadata": {},
   "outputs": [
    {
     "data": {
      "text/plain": [
       "[5]"
      ]
     },
     "execution_count": 5,
     "metadata": {},
     "output_type": "execute_result"
    }
   ],
   "source": [
    "l1=[1,5,5]\n",
    "l2=[3,4,5,5,20]\n",
    "l3=[3,5,10,20]\n",
    "\n",
    "s1=set(l1)\n",
    "s2=set(l2)\n",
    "s3=set(l3)\n",
    "\n",
    "s1s2=s1.intersection(s2)\n",
    "finaleSet=s1s2.intersection(s3)\n",
    "list(finaleSet)\n"
   ]
  },
  {
   "cell_type": "code",
   "execution_count": 1,
   "metadata": {},
   "outputs": [
    {
     "data": {
      "text/plain": [
       "2"
      ]
     },
     "execution_count": 1,
     "metadata": {},
     "output_type": "execute_result"
    }
   ],
   "source": [
    "# create a dictionary\n",
    "my_dict = {'apple': 2, 'banana': 3, 'orange': 4}\n",
    "my_dict.items()\n",
    "# dictionary methods\n",
    "# my_dict.clear() # removes all elements from the dictionary\n",
    "# my_dict.copy() # returns a shallow copy of the dictionary\n",
    "# my_dict.fromkeys(keys, value) # creates a new dictionary with keys from iterable and values set to value\n",
    "# my_dict.get(key, default=None) # returns the value for the specified key if key is in the dictionary, else default\n",
    "# my_dict.items() # returns a list of dict's (key, value) tuple pairs\n",
    "# my_dict.keys() # returns a list of dictionary keys\n",
    "# my_dict.pop(key, default=None) # removes and returns the value for the specified key if key is in the dictionary, else default\n",
    "# my_dict.popitem() # removes and returns an arbitrary (key, value) tuple pair from the dictionary\n",
    "\n",
    "# my_dict.update(other_dict) # updates the dictionary with the key/value pairs from other_dict\n",
    "# my_dict.values() # returns a list of dictionary values\n",
    "my_dict['apple']\n",
    "\n"
   ]
  },
  {
   "cell_type": "code",
   "execution_count": 5,
   "metadata": {},
   "outputs": [
    {
     "name": "stdout",
     "output_type": "stream",
     "text": [
      "1100\n"
     ]
    }
   ],
   "source": [
    "my_dict1={\n",
    "    'a':200,\n",
    "    'b':400,\n",
    "    'c':500,\n",
    "}\n",
    "\n",
    "demo=0\n",
    "for x,y in my_dict1.items():\n",
    "    demo=demo+y\n",
    "print(demo)"
   ]
  },
  {
   "cell_type": "markdown",
   "metadata": {},
   "source": [
    "# conditional conditions"
   ]
  },
  {
   "cell_type": "code",
   "execution_count": 9,
   "metadata": {},
   "outputs": [
    {
     "name": "stdout",
     "output_type": "stream",
     "text": [
      "false\n"
     ]
    }
   ],
   "source": [
    "if(1>2):\n",
    "    print('true')\n",
    "else:\n",
    "    print('false')"
   ]
  },
  {
   "cell_type": "code",
   "execution_count": null,
   "metadata": {},
   "outputs": [],
   "source": []
  },
  {
   "cell_type": "code",
   "execution_count": 10,
   "metadata": {},
   "outputs": [
    {
     "name": "stdout",
     "output_type": "stream",
     "text": [
      "0 1 2 3 4 5 6 7 8 9 | \n",
      "1 2 3 5 64 6 7 8 9 "
     ]
    }
   ],
   "source": [
    "# Option 1: Directly pass the values to the range function\n",
    "for i in range(0, 10):\n",
    "    print(i, end=' ')\n",
    "print('| ')\n",
    "# Option 2: Create a list and iterate over it using a for loop\n",
    "values = [1, 2, 3, 5, 64, 6, 7, 8, 9]\n",
    "for i in values:\n",
    "    print(i, end=' ')"
   ]
  },
  {
   "cell_type": "markdown",
   "metadata": {},
   "source": [
    "# function"
   ]
  },
  {
   "cell_type": "code",
   "execution_count": 11,
   "metadata": {},
   "outputs": [
    {
     "data": {
      "text/plain": [
       "5"
      ]
     },
     "execution_count": 11,
     "metadata": {},
     "output_type": "execute_result"
    }
   ],
   "source": [
    "def sum(a,b):\n",
    "    return a+b\n",
    "\n",
    "sum(2,3)"
   ]
  },
  {
   "cell_type": "code",
   "execution_count": 16,
   "metadata": {},
   "outputs": [
    {
     "data": {
      "text/plain": [
       "55"
      ]
     },
     "execution_count": 16,
     "metadata": {},
     "output_type": "execute_result"
    }
   ],
   "source": [
    "def sumingivenNumber(n):\n",
    "    sum=0\n",
    "    for i in range(1,n+1):\n",
    "        sum=sum+i\n",
    "    return sum\n",
    "sumingivenNumber(10)"
   ]
  },
  {
   "cell_type": "code",
   "execution_count": 17,
   "metadata": {},
   "outputs": [
    {
     "data": {
      "text/plain": [
       "True"
      ]
     },
     "execution_count": 17,
     "metadata": {},
     "output_type": "execute_result"
    }
   ],
   "source": [
    "def palindrome(str):\n",
    "    return str==str[::-1]\n",
    "palindrome('121')"
   ]
  },
  {
   "cell_type": "code",
   "execution_count": 12,
   "metadata": {},
   "outputs": [],
   "source": [
    "a=int(input('enter a number'))\n",
    "b=int(input('enter a number'))\n",
    "operator=input('enter a number')\n",
    "def arithmaticOp(a,b,operator):\n",
    "    if (operator=='+'):\n",
    "        print(a+b)\n",
    "    elif (operator=='-'):\n",
    "        print(a-b)\n",
    "    elif (operator=='/'):\n",
    "        print(a/b)\n",
    "    elif (operator=='*'):\n",
    "        print(a*b)\n",
    "    elif (operator=='%'):\n",
    "        print(a%b)\n",
    "    elif (operator=='**'):\n",
    "        print(a**b)\n",
    "    else :\n",
    "        print('unknown operator')\n",
    "\n",
    "arithmaticOp(a,b,operator)\n"
   ]
  }
 ],
 "metadata": {
  "kernelspec": {
   "display_name": "Python 3",
   "language": "python",
   "name": "python3"
  },
  "language_info": {
   "codemirror_mode": {
    "name": "ipython",
    "version": 3
   },
   "file_extension": ".py",
   "mimetype": "text/x-python",
   "name": "python",
   "nbconvert_exporter": "python",
   "pygments_lexer": "ipython3",
   "version": "3.10.2"
  }
 },
 "nbformat": 4,
 "nbformat_minor": 2
}
